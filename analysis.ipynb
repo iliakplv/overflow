{
 "cells": [
  {
   "cell_type": "code",
   "execution_count": null,
   "metadata": {},
   "outputs": [],
   "source": [
    "%matplotlib inline\n",
    "import pandas as pd\n",
    "import matplotlib as plt"
   ]
  },
  {
   "cell_type": "code",
   "execution_count": null,
   "metadata": {
    "scrolled": true
   },
   "outputs": [],
   "source": [
    "%%time\n",
    "df = pd.read_csv(\"./data/so_survey_results_public.csv\")"
   ]
  },
  {
   "cell_type": "code",
   "execution_count": null,
   "metadata": {},
   "outputs": [],
   "source": [
    "ignored_columns = ['Respondent', 'Country', 'DevType',\n",
    "                   'Salary', 'ConvertedSalary', 'CurrencySymbol',\n",
    "                   'EducationTypes', 'SelfTaughtTypes',\n",
    "                   'LanguageWorkedWith', 'LanguageDesireNextYear',\n",
    "                   'DatabaseWorkedWith', 'DatabaseDesireNextYear',\n",
    "                   'PlatformWorkedWith', 'PlatformDesireNextYear', \n",
    "                   'FrameworkWorkedWith', 'FrameworkDesireNextYear',\n",
    "                   'IDE', 'VersionControl',\n",
    "                   'CommunicationTools', 'AdBlockerReasons',\n",
    "                   'Methodology', 'HackathonReasons']\n",
    "def is_ignored(column):\n",
    "    return column in ignored_columns or column[-1].isdigit()"
   ]
  },
  {
   "cell_type": "code",
   "execution_count": null,
   "metadata": {},
   "outputs": [],
   "source": [
    "def print_column(column):\n",
    "    print(\"\\n[ {} ]\".format(str(column)))\n",
    "    values = df[column].unique().tolist()\n",
    "    for value in values:\n",
    "        print(\"\\t{}\".format(str(value)))"
   ]
  },
  {
   "cell_type": "code",
   "execution_count": null,
   "metadata": {},
   "outputs": [],
   "source": [
    "%%time\n",
    "for col in df:\n",
    "    if not is_ignored(col):\n",
    "        print_column(col)"
   ]
  }
 ],
 "metadata": {
  "kernelspec": {
   "display_name": "Python 3",
   "language": "python",
   "name": "python3"
  },
  "language_info": {
   "codemirror_mode": {
    "name": "ipython",
    "version": 3
   },
   "file_extension": ".py",
   "mimetype": "text/x-python",
   "name": "python",
   "nbconvert_exporter": "python",
   "pygments_lexer": "ipython3",
   "version": "3.6.7"
  }
 },
 "nbformat": 4,
 "nbformat_minor": 2
}
