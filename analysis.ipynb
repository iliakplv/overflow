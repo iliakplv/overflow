{
 "cells": [
  {
   "cell_type": "code",
   "execution_count": null,
   "metadata": {},
   "outputs": [],
   "source": [
    "%matplotlib inline\n",
    "import pandas as pd\n",
    "import matplotlib as plt"
   ]
  },
  {
   "cell_type": "code",
   "execution_count": null,
   "metadata": {
    "scrolled": true
   },
   "outputs": [],
   "source": [
    "%%time\n",
    "df = pd.read_csv(\"./data/so_survey_results_public.csv\")"
   ]
  },
  {
   "cell_type": "code",
   "execution_count": null,
   "metadata": {},
   "outputs": [],
   "source": [
    "aggregate_columns = ['LanguageWorkedWith', 'LanguageDesireNextYear',\n",
    "                   'DatabaseWorkedWith', 'DatabaseDesireNextYear',\n",
    "                   'PlatformWorkedWith', 'PlatformDesireNextYear', \n",
    "                   'FrameworkWorkedWith', 'FrameworkDesireNextYear',\n",
    "                    'IDE', 'VersionControl',\n",
    "                   'CommunicationTools', 'AdBlockerReasons',\n",
    "                   'Methodology', 'HackathonReasons']\n",
    "\n",
    "def is_aggregate(column):\n",
    "    return column in aggregate_columns\n",
    "\n",
    "ignored_columns = ['Respondent', 'Country', 'DevType',\n",
    "                   'Salary', 'ConvertedSalary', 'CurrencySymbol',\n",
    "                   'EducationTypes', 'SelfTaughtTypes']\n",
    "\n",
    "def is_ignored(column):\n",
    "    return column in ignored_columns or column[-1].isdigit()\n",
    "\n",
    "def print_column(column):\n",
    "    print(\"\\n[ {} ]\".format(str(column)))\n",
    "    values = df[column].unique().tolist()\n",
    "    for value in values:\n",
    "        print(\"\\t{}\".format(str(value)))\n",
    "        \n",
    "def print_aggregate_column(column):\n",
    "    print(\"\\n[ {} ]\".format(str(column)))\n",
    "    values = set()\n",
    "    for row in df[column]:\n",
    "        row_values = str(row).split(';')\n",
    "        for value in row_values:\n",
    "            values.add(value)\n",
    "    for value in values:\n",
    "        print(\"\\t{}\".format(str(value)))"
   ]
  },
  {
   "cell_type": "code",
   "execution_count": null,
   "metadata": {},
   "outputs": [],
   "source": [
    "%%time\n",
    "for col in df:\n",
    "    if is_aggregate(col):\n",
    "        print_aggregate_column(col)\n",
    "    elif not is_ignored(col):\n",
    "        print_column(col)"
   ]
  },
  {
   "cell_type": "code",
   "execution_count": null,
   "metadata": {},
   "outputs": [],
   "source": [
    "df['Employment'].fillna('N/A').value_counts().plot(kind='barh')"
   ]
  },
  {
   "cell_type": "code",
   "execution_count": null,
   "metadata": {},
   "outputs": [],
   "source": [
    "df['FormalEducation'].fillna('N/A').value_counts().plot(kind='barh')"
   ]
  },
  {
   "cell_type": "code",
   "execution_count": null,
   "metadata": {},
   "outputs": [],
   "source": [
    "df['CompanySize'].fillna('N/A').value_counts().plot(kind='barh')"
   ]
  },
  {
   "cell_type": "code",
   "execution_count": null,
   "metadata": {},
   "outputs": [],
   "source": [
    "df['YearsCoding'].fillna('N/A').value_counts().plot(kind='barh')"
   ]
  },
  {
   "cell_type": "code",
   "execution_count": null,
   "metadata": {},
   "outputs": [],
   "source": [
    "df['YearsCodingProf'].fillna('N/A').value_counts().plot(kind='barh')"
   ]
  },
  {
   "cell_type": "code",
   "execution_count": null,
   "metadata": {},
   "outputs": [],
   "source": [
    "df['JobSatisfaction'].fillna('N/A').value_counts().plot(kind='barh')"
   ]
  },
  {
   "cell_type": "code",
   "execution_count": null,
   "metadata": {},
   "outputs": [],
   "source": [
    "df['CareerSatisfaction'].fillna('N/A').value_counts().plot(kind='barh')"
   ]
  },
  {
   "cell_type": "code",
   "execution_count": null,
   "metadata": {},
   "outputs": [],
   "source": [
    "df['HopeFiveYears'].fillna('N/A').value_counts().plot(kind='barh')"
   ]
  },
  {
   "cell_type": "code",
   "execution_count": null,
   "metadata": {},
   "outputs": [],
   "source": [
    "# What do you think is the most dangerous aspect of increasingly advanced AI technology?\n",
    "df['AIDangerous'].fillna('N/A').value_counts().plot(kind='barh')"
   ]
  },
  {
   "cell_type": "code",
   "execution_count": null,
   "metadata": {},
   "outputs": [],
   "source": [
    "# What do you think is the most exciting aspect of increasingly advanced AI technology?\n",
    "df['AIInteresting'].fillna('N/A').value_counts().plot(kind='barh')"
   ]
  },
  {
   "cell_type": "code",
   "execution_count": null,
   "metadata": {},
   "outputs": [],
   "source": [
    "# Whose responsibility is it, *primarily*, to consider the ramifications of increasingly advanced AI technology?\n",
    "df['AIResponsible'].fillna('N/A').value_counts().plot(kind='barh')"
   ]
  },
  {
   "cell_type": "code",
   "execution_count": null,
   "metadata": {},
   "outputs": [],
   "source": [
    "# Overall, what's your take on the future of artificial intelligence?\n",
    "df['AIFuture'].fillna('N/A').value_counts().plot(kind='barh')"
   ]
  },
  {
   "cell_type": "code",
   "execution_count": null,
   "metadata": {},
   "outputs": [],
   "source": [
    "df['Age'].fillna('N/A').value_counts().plot(kind='barh')"
   ]
  }
 ],
 "metadata": {
  "kernelspec": {
   "display_name": "Python 3",
   "language": "python",
   "name": "python3"
  },
  "language_info": {
   "codemirror_mode": {
    "name": "ipython",
    "version": 3
   },
   "file_extension": ".py",
   "mimetype": "text/x-python",
   "name": "python",
   "nbconvert_exporter": "python",
   "pygments_lexer": "ipython3",
   "version": "3.6.7"
  }
 },
 "nbformat": 4,
 "nbformat_minor": 2
}
