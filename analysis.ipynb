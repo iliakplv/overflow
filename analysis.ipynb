{
 "cells": [
  {
   "cell_type": "markdown",
   "metadata": {},
   "source": [
    "# Data Analysis"
   ]
  },
  {
   "cell_type": "code",
   "execution_count": 1,
   "metadata": {},
   "outputs": [],
   "source": [
    "%matplotlib inline\n",
    "import pandas as pd\n",
    "import matplotlib as plt"
   ]
  },
  {
   "cell_type": "code",
   "execution_count": 2,
   "metadata": {
    "scrolled": true
   },
   "outputs": [
    {
     "name": "stdout",
     "output_type": "stream",
     "text": [
      "CPU times: user 2.55 s, sys: 109 ms, total: 2.66 s\n",
      "Wall time: 2.66 s\n"
     ]
    },
    {
     "name": "stderr",
     "output_type": "stream",
     "text": [
      "<string>:2: DtypeWarning: Columns (8,12,13,14,15,16,50,51,52,53,55,56,57,58,59,60,61,62,63,64,65,66,67,68,69,70,71,72,73,74,75,76,77,78,79,80,81,82,83,84,85,93,94,95,96,97,98,99,100,101,102,103,104,105,106,107,108,109,110,111,112,113,114,115,116,117,118,119,120,121,122,123,124,125,126,127,128) have mixed types. Specify dtype option on import or set low_memory=False.\n"
     ]
    }
   ],
   "source": [
    "%%time\n",
    "df = pd.read_csv(\"./data/so_survey_results_public.csv\")"
   ]
  },
  {
   "cell_type": "markdown",
   "metadata": {},
   "source": [
    "## Printing unique values\n",
    "\n",
    "_Aggregate_ columns contain semicolon-separated unique values"
   ]
  },
  {
   "cell_type": "code",
   "execution_count": 3,
   "metadata": {},
   "outputs": [],
   "source": [
    "aggregate_columns = ['LanguageWorkedWith', 'LanguageDesireNextYear',\n",
    "                   'DatabaseWorkedWith', 'DatabaseDesireNextYear',\n",
    "                   'PlatformWorkedWith', 'PlatformDesireNextYear', \n",
    "                   'FrameworkWorkedWith', 'FrameworkDesireNextYear',\n",
    "                    'IDE', 'VersionControl',\n",
    "                   'CommunicationTools', 'AdBlockerReasons',\n",
    "                   'Methodology', 'HackathonReasons']\n",
    "\n",
    "def is_aggregate(column):\n",
    "    return column in aggregate_columns\n",
    "\n",
    "ignored_columns = ['Respondent', 'Country', 'DevType',\n",
    "                   'Salary', 'ConvertedSalary', 'CurrencySymbol',\n",
    "                   'EducationTypes', 'SelfTaughtTypes']\n",
    "\n",
    "def is_ignored(column):\n",
    "    return column in ignored_columns or column[-1].isdigit()\n",
    "\n",
    "def print_column(column):\n",
    "    print(\"\\n[ {} ]\".format(str(column)))\n",
    "    values = df[column].unique().tolist()\n",
    "    for value in values:\n",
    "        print(\"\\t{}\".format(str(value)))\n",
    "        \n",
    "def print_aggregate_column(column):\n",
    "    print(\"\\n[ {} ]\".format(str(column)))\n",
    "    values = set()\n",
    "    for row in df[column]:\n",
    "        row_values = str(row).split(';')\n",
    "        for value in row_values:\n",
    "            values.add(value)\n",
    "    for value in values:\n",
    "        print(\"\\t{}\".format(str(value)))"
   ]
  },
  {
   "cell_type": "code",
   "execution_count": 4,
   "metadata": {},
   "outputs": [
    {
     "name": "stdout",
     "output_type": "stream",
     "text": [
      "\n",
      "[ Hobby ]\n",
      "\tYes\n",
      "\tNo\n",
      "\n",
      "[ OpenSource ]\n",
      "\tNo\n",
      "\tYes\n",
      "\n",
      "[ Student ]\n",
      "\tNo\n",
      "\tYes, part-time\n",
      "\tnan\n",
      "\tYes, full-time\n",
      "\n",
      "[ Employment ]\n",
      "\tEmployed part-time\n",
      "\tEmployed full-time\n",
      "\tIndependent contractor, freelancer, or self-employed\n",
      "\tNot employed, and not looking for work\n",
      "\tNot employed, but looking for work\n",
      "\tnan\n",
      "\tRetired\n",
      "\n",
      "[ FormalEducation ]\n",
      "\tBachelor’s degree (BA, BS, B.Eng., etc.)\n",
      "\tAssociate degree\n",
      "\tSome college/university study without earning a degree\n",
      "\tMaster’s degree (MA, MS, M.Eng., MBA, etc.)\n",
      "\tSecondary school (e.g. American high school, German Realschule or Gymnasium, etc.)\n",
      "\tnan\n",
      "\tPrimary/elementary school\n",
      "\tProfessional degree (JD, MD, etc.)\n",
      "\tI never completed any formal education\n",
      "\tOther doctoral degree (Ph.D, Ed.D., etc.)\n",
      "\n",
      "[ UndergradMajor ]\n",
      "\tMathematics or statistics\n",
      "\tA natural science (ex. biology, chemistry, physics)\n",
      "\tComputer science, computer engineering, or software engineering\n",
      "\tFine arts or performing arts (ex. graphic design, music, studio art)\n",
      "\tInformation systems, information technology, or system administration\n",
      "\tAnother engineering discipline (ex. civil, electrical, mechanical)\n",
      "\tnan\n",
      "\tA business discipline (ex. accounting, finance, marketing)\n",
      "\tA social science (ex. anthropology, psychology, political science)\n",
      "\tWeb development or web design\n",
      "\tA humanities discipline (ex. literature, history, philosophy)\n",
      "\tA health science (ex. nursing, pharmacy, radiology)\n",
      "\tI never declared a major\n",
      "\n",
      "[ CompanySize ]\n",
      "\t20 to 99 employees\n",
      "\t10,000 or more employees\n",
      "\t100 to 499 employees\n",
      "\t10 to 19 employees\n",
      "\t500 to 999 employees\n",
      "\t1,000 to 4,999 employees\n",
      "\t5,000 to 9,999 employees\n",
      "\tFewer than 10 employees\n",
      "\tnan\n",
      "\n",
      "[ YearsCoding ]\n",
      "\t3-5 years\n",
      "\t30 or more years\n",
      "\t24-26 years\n",
      "\t18-20 years\n",
      "\t6-8 years\n",
      "\t9-11 years\n",
      "\t0-2 years\n",
      "\t15-17 years\n",
      "\t12-14 years\n",
      "\t21-23 years\n",
      "\t27-29 years\n",
      "\tnan\n",
      "\n",
      "[ YearsCodingProf ]\n",
      "\t3-5 years\n",
      "\t18-20 years\n",
      "\t6-8 years\n",
      "\t12-14 years\n",
      "\t0-2 years\n",
      "\t21-23 years\n",
      "\tnan\n",
      "\t24-26 years\n",
      "\t9-11 years\n",
      "\t15-17 years\n",
      "\t27-29 years\n",
      "\t30 or more years\n",
      "\n",
      "[ JobSatisfaction ]\n",
      "\tExtremely satisfied\n",
      "\tModerately dissatisfied\n",
      "\tModerately satisfied\n",
      "\tNeither satisfied nor dissatisfied\n",
      "\tSlightly satisfied\n",
      "\tnan\n",
      "\tSlightly dissatisfied\n",
      "\tExtremely dissatisfied\n",
      "\n",
      "[ CareerSatisfaction ]\n",
      "\tExtremely satisfied\n",
      "\tNeither satisfied nor dissatisfied\n",
      "\tModerately satisfied\n",
      "\tSlightly dissatisfied\n",
      "\tSlightly satisfied\n",
      "\tnan\n",
      "\tModerately dissatisfied\n",
      "\tExtremely dissatisfied\n",
      "\n",
      "[ HopeFiveYears ]\n",
      "\tWorking as a founder or co-founder of my own company\n",
      "\tWorking in a different or more specialized technical role than the one I'm in now\n",
      "\tDoing the same work\n",
      "\tnan\n",
      "\tWorking as an engineering manager or other functional manager\n",
      "\tWorking in a career completely unrelated to software development\n",
      "\tWorking as a product manager or project manager\n",
      "\tRetirement\n",
      "\n",
      "[ JobSearchStatus ]\n",
      "\tI’m not actively looking, but I am open to new opportunities\n",
      "\tI am actively looking for a job\n",
      "\tnan\n",
      "\tI am not interested in new job opportunities\n",
      "\n",
      "[ LastNewJob ]\n",
      "\tLess than a year ago\n",
      "\tMore than 4 years ago\n",
      "\tBetween 1 and 2 years ago\n",
      "\tBetween 2 and 4 years ago\n",
      "\tnan\n",
      "\tI've never had a job\n",
      "\n",
      "[ UpdateCV ]\n",
      "\tMy job status or other personal status changed\n",
      "\tI saw an employer’s advertisement\n",
      "\tnan\n",
      "\tA recruiter contacted me\n",
      "\tI did not receive an expected change in compensation\n",
      "\tA friend told me about a job opportunity\n",
      "\tI had a negative experience or interaction at work\n",
      "\tI received bad news about the future of my company or department\n",
      "\tI received negative feedback on my job performance\n",
      "\n",
      "[ Currency ]\n",
      "\tnan\n",
      "\tBritish pounds sterling (£)\n",
      "\tU.S. dollars ($)\n",
      "\tSouth African rands (R)\n",
      "\tEuros (€)\n",
      "\tSwedish kroner (SEK)\n",
      "\tAustralian dollars (A$)\n",
      "\tIndian rupees (₹)\n",
      "\tPolish złoty (zł)\n",
      "\tRussian rubles (₽)\n",
      "\tDanish krone (kr)\n",
      "\tChinese yuan renminbi (¥)\n",
      "\tJapanese yen (¥)\n",
      "\tBrazilian reais (R$)\n",
      "\tCanadian dollars (C$)\n",
      "\tMexican pesos (MXN$)\n",
      "\tNorwegian krone (kr)\n",
      "\tSwiss francs\n",
      "\tSingapore dollars (S$)\n",
      "\tBitcoin (btc)\n",
      "\n",
      "[ SalaryType ]\n",
      "\tMonthly\n",
      "\tYearly\n",
      "\tnan\n",
      "\tWeekly\n",
      "\n",
      "[ CommunicationTools ]\n",
      "\tJira\n",
      "\tConfluence\n",
      "\tOther wiki tool (Github, Google Sites, proprietary software, etc.)\n",
      "\tStack Overflow Enterprise\n",
      "\tHipChat\n",
      "\tnan\n",
      "\tFacebook\n",
      "\tSlack\n",
      "\tGoogle Hangouts/Chat\n",
      "\tOffice / productivity suite (Microsoft Office, Google Suite, etc.)\n",
      "\tOther chat system (IRC, proprietary software, etc.)\n",
      "\tTrello\n",
      "\n",
      "[ TimeFullyProductive ]\n",
      "\tOne to three months\n",
      "\tnan\n",
      "\tThree to six months\n",
      "\tLess than a month\n",
      "\tSix to nine months\n",
      "\tMore than a year\n",
      "\tNine months to a year\n",
      "\n",
      "[ TimeAfterBootcamp ]\n",
      "\tnan\n",
      "\tImmediately after graduating\n",
      "\tI already had a full-time job as a developer when I began the program\n",
      "\tFour to six months\n",
      "\tOne to three months\n",
      "\tSix months to a year\n",
      "\tI haven’t gotten a developer job\n",
      "\tLess than a month\n",
      "\tLonger than a year\n",
      "\n",
      "[ HackathonReasons ]\n",
      "\tBecause I find it enjoyable\n",
      "\tTo improve my knowledge of a specific programming language, framework, or other technology\n",
      "\tnan\n",
      "\tTo improve my ability to work on a team with other programmers\n",
      "\tTo win prizes or cash awards\n",
      "\tTo improve my general technical skills or programming ability\n",
      "\tTo help me find new job opportunities\n",
      "\tTo build my professional network\n",
      "\n",
      "[ LanguageWorkedWith ]\n",
      "\tPython\n",
      "\tVB.NET\n",
      "\tOcaml\n",
      "\tMatlab\n",
      "\tRuby\n",
      "\tnan\n",
      "\tErlang\n",
      "\tVBA\n",
      "\tAssembly\n",
      "\tPerl\n",
      "\tHaskell\n",
      "\tDelphi/Object Pascal\n",
      "\tScala\n",
      "\tC#\n",
      "\tKotlin\n",
      "\tLua\n",
      "\tGroovy\n",
      "\tGo\n",
      "\tF#\n",
      "\tHack\n",
      "\tJavaScript\n",
      "\tSwift\n",
      "\tHTML\n",
      "\tVisual Basic 6\n",
      "\tR\n",
      "\tTypeScript\n",
      "\tCSS\n",
      "\tRust\n",
      "\tCobol\n",
      "\tCoffeeScript\n",
      "\tPHP\n",
      "\tJava\n",
      "\tSQL\n",
      "\tClojure\n",
      "\tBash/Shell\n",
      "\tObjective-C\n",
      "\tC\n",
      "\tC++\n",
      "\tJulia\n",
      "\n",
      "[ LanguageDesireNextYear ]\n",
      "\tPython\n",
      "\tOcaml\n",
      "\tVB.NET\n",
      "\tMatlab\n",
      "\tRuby\n",
      "\tnan\n",
      "\tErlang\n",
      "\tVBA\n",
      "\tAssembly\n",
      "\tPerl\n",
      "\tHaskell\n",
      "\tDelphi/Object Pascal\n",
      "\tScala\n",
      "\tC#\n",
      "\tKotlin\n",
      "\tLua\n",
      "\tGroovy\n",
      "\tGo\n",
      "\tF#\n",
      "\tHack\n",
      "\tJavaScript\n",
      "\tSwift\n",
      "\tHTML\n",
      "\tVisual Basic 6\n",
      "\tR\n",
      "\tTypeScript\n",
      "\tCSS\n",
      "\tRust\n",
      "\tCobol\n",
      "\tCoffeeScript\n",
      "\tPHP\n",
      "\tJava\n",
      "\tSQL\n",
      "\tClojure\n",
      "\tBash/Shell\n",
      "\tObjective-C\n",
      "\tC\n",
      "\tC++\n",
      "\tJulia\n",
      "\n",
      "[ DatabaseWorkedWith ]\n",
      "\tnan\n",
      "\tMicrosoft Azure (Tables, CosmosDB, SQL, etc)\n",
      "\tIBM Db2\n",
      "\tOracle\n",
      "\tApache Hive\n",
      "\tRedis\n",
      "\tAmazon DynamoDB\n",
      "\tGoogle Cloud Storage\n",
      "\tMemcached\n",
      "\tElasticsearch\n",
      "\tMongoDB\n",
      "\tSQLite\n",
      "\tGoogle BigQuery\n",
      "\tMariaDB\n",
      "\tPostgreSQL\n",
      "\tAmazon Redshift\n",
      "\tAmazon RDS/Aurora\n",
      "\tNeo4j\n",
      "\tCassandra\n",
      "\tSQL Server\n",
      "\tApache HBase\n",
      "\tMySQL\n",
      "\n",
      "[ DatabaseDesireNextYear ]\n",
      "\tnan\n",
      "\tMicrosoft Azure (Tables, CosmosDB, SQL, etc)\n",
      "\tIBM Db2\n",
      "\tOracle\n",
      "\tApache Hive\n",
      "\tRedis\n",
      "\tAmazon DynamoDB\n",
      "\tGoogle Cloud Storage\n",
      "\tMemcached\n",
      "\tElasticsearch\n",
      "\tMongoDB\n",
      "\tSQLite\n",
      "\tGoogle BigQuery\n",
      "\tMariaDB\n",
      "\tPostgreSQL\n",
      "\tAmazon Redshift\n",
      "\tAmazon RDS/Aurora\n",
      "\tNeo4j\n",
      "\tCassandra\n",
      "\tSQL Server\n",
      "\tApache HBase\n",
      "\tMySQL\n",
      "\n",
      "[ PlatformWorkedWith ]\n",
      "\tAndroid\n",
      "\tWindows Phone\n",
      "\tPredix\n",
      "\tGoogle Home\n",
      "\tnan\n",
      "\tAWS\n",
      "\tHeroku\n",
      "\tLinux\n",
      "\tArduino\n",
      "\tMainframe\n",
      "\tRaspberry Pi\n",
      "\tApple Watch or Apple TV\n",
      "\tGaming console\n",
      "\tSharePoint\n",
      "\tGoogle Cloud Platform/App Engine\n",
      "\tSalesforce\n",
      "\tiOS\n",
      "\tDrupal\n",
      "\tAzure\n",
      "\tIBM Cloud or Watson\n",
      "\tServerless\n",
      "\tWindows Desktop or Server\n",
      "\tFirebase\n",
      "\tWordPress\n",
      "\tMac OS\n",
      "\tESP8266\n",
      "\tAmazon Echo\n",
      "\n",
      "[ PlatformDesireNextYear ]\n",
      "\tAndroid\n",
      "\tWindows Phone\n",
      "\tPredix\n",
      "\tGoogle Home\n",
      "\tnan\n",
      "\tAWS\n",
      "\tHeroku\n",
      "\tLinux\n",
      "\tArduino\n",
      "\tMainframe\n",
      "\tRaspberry Pi\n",
      "\tApple Watch or Apple TV\n",
      "\tGaming console\n",
      "\tSharePoint\n",
      "\tGoogle Cloud Platform/App Engine\n",
      "\tSalesforce\n",
      "\tiOS\n",
      "\tDrupal\n",
      "\tAzure\n",
      "\tIBM Cloud or Watson\n",
      "\tServerless\n",
      "\tWindows Desktop or Server\n",
      "\tFirebase\n",
      "\tWordPress\n",
      "\tMac OS\n",
      "\tESP8266\n",
      "\tAmazon Echo\n",
      "\n",
      "[ FrameworkWorkedWith ]\n",
      "\tNode.js\n",
      "\tCordova\n",
      "\tSpring\n",
      "\tSpark\n",
      "\tTensorFlow\n",
      "\tTorch/PyTorch\n",
      "\tDjango\n",
      "\tnan\n",
      "\tAngular\n",
      "\tHadoop\n",
      "\tXamarin\n",
      "\tReact\n",
      "\t.NET Core\n",
      "\n",
      "[ FrameworkDesireNextYear ]\n",
      "\tNode.js\n",
      "\tTensorFlow\n",
      "\tSpring\n",
      "\tSpark\n",
      "\tCordova\n",
      "\tTorch/PyTorch\n",
      "\tDjango\n",
      "\tnan\n",
      "\tAngular\n",
      "\tHadoop\n",
      "\tXamarin\n",
      "\tReact\n",
      "\t.NET Core\n",
      "\n",
      "[ IDE ]\n",
      "\tnan\n",
      "\tVisual Studio Code\n",
      "\tXcode\n",
      "\tIPython / Jupyter\n",
      "\tEmacs\n",
      "\tEclipse\n",
      "\tPyCharm\n",
      "\tAtom\n",
      "\tLight Table\n",
      "\tCoda\n",
      "\tRubyMine\n",
      "\tSublime Text\n",
      "\tKomodo\n",
      "\tZend\n",
      "\tNetBeans\n",
      "\tVisual Studio\n",
      "\tNotepad++\n",
      "\tVim\n",
      "\tIntelliJ\n",
      "\tTextMate\n",
      "\tRStudio\n",
      "\tAndroid Studio\n",
      "\tPHPStorm\n",
      "\n",
      "[ OperatingSystem ]\n",
      "\tLinux-based\n",
      "\tnan\n",
      "\tWindows\n",
      "\tMacOS\n",
      "\tBSD/Unix\n",
      "\n",
      "[ NumberMonitors ]\n",
      "\t1\n",
      "\t2\n",
      "\tnan\n",
      "\tMore than 4\n",
      "\t3\n",
      "\t4\n",
      "\n",
      "[ Methodology ]\n",
      "\tFormal standard such as ISO 9001 or IEEE 12207 (aka “waterfall” methodologies)\n",
      "\tEvidence-based software engineering\n",
      "\tExtreme programming (XP)\n",
      "\tMob programming\n",
      "\tAgile\n",
      "\tKanban\n",
      "\tnan\n",
      "\tScrum\n",
      "\tPair programming\n",
      "\tLean\n",
      "\tPRINCE2\n",
      "\n",
      "[ VersionControl ]\n",
      "\tGit\n",
      "\tnan\n",
      "\tI don't use version control\n",
      "\tZip file back-ups\n",
      "\tTeam Foundation Version Control\n",
      "\tSubversion\n",
      "\tCopying and pasting files to network shares\n",
      "\tMercurial\n",
      "\n",
      "[ CheckInCode ]\n",
      "\tMultiple times per day\n",
      "\tA few times per week\n",
      "\tnan\n",
      "\tWeekly or a few times per month\n",
      "\tNever\n",
      "\tLess than once per month\n",
      "\tOnce a day\n",
      "\n",
      "[ AdBlocker ]\n",
      "\tYes\n",
      "\tnan\n",
      "\tNo\n",
      "\tI'm not sure/I don't know\n",
      "\n",
      "[ AdBlockerDisable ]\n",
      "\tNo\n",
      "\tYes\n",
      "\tnan\n",
      "\tI'm not sure/I can't remember\n",
      "\n",
      "[ AdBlockerReasons ]\n",
      "\tI wanted to support the website I was visiting by viewing their ads\n",
      "\tnan\n",
      "\tThe website I was visiting asked me to disable it\n",
      "\tThe website I was visiting has interesting ads\n",
      "\tThe website I was visiting forced me to disable it to access their content\n",
      "\tI wanted to view a specific advertisement\n",
      "\tThe ad-blocking software was causing display issues on a website\n",
      "\n",
      "[ AdsActions ]\n",
      "\tSaw an online advertisement and then researched it (without clicking on the ad);Stopped going to a website because of their advertising\n",
      "\tnan\n",
      "\tStopped going to a website because of their advertising\n",
      "\tClicked on an online advertisement;Saw an online advertisement and then researched it (without clicking on the ad)\n",
      "\tClicked on an online advertisement;Stopped going to a website because of their advertising\n",
      "\tSaw an online advertisement and then researched it (without clicking on the ad)\n",
      "\tClicked on an online advertisement;Saw an online advertisement and then researched it (without clicking on the ad);Stopped going to a website because of their advertising\n",
      "\tClicked on an online advertisement\n",
      "\tClicked on an online advertisement;Saw an online advertisement and then researched it (without clicking on the ad);Stopped going to a website because of their advertising;Paid to access a website advertisement-free\n",
      "\tClicked on an online advertisement;Saw an online advertisement and then researched it (without clicking on the ad);Paid to access a website advertisement-free\n",
      "\tSaw an online advertisement and then researched it (without clicking on the ad);Stopped going to a website because of their advertising;Paid to access a website advertisement-free\n",
      "\tPaid to access a website advertisement-free\n",
      "\tStopped going to a website because of their advertising;Paid to access a website advertisement-free\n",
      "\tClicked on an online advertisement;Paid to access a website advertisement-free\n",
      "\tSaw an online advertisement and then researched it (without clicking on the ad);Paid to access a website advertisement-free\n",
      "\tClicked on an online advertisement;Stopped going to a website because of their advertising;Paid to access a website advertisement-free\n",
      "\n",
      "[ AIDangerous ]\n",
      "\tArtificial intelligence surpassing human intelligence (\"the singularity\")\n",
      "\tIncreasing automation of jobs\n",
      "\tnan\n",
      "\tAlgorithms making important decisions\n",
      "\tEvolving definitions of \"fairness\" in algorithmic versus human decisions\n",
      "\n",
      "[ AIInteresting ]\n",
      "\tAlgorithms making important decisions\n",
      "\tIncreasing automation of jobs\n",
      "\tnan\n",
      "\tArtificial intelligence surpassing human intelligence (\"the singularity\")\n",
      "\tEvolving definitions of \"fairness\" in algorithmic versus human decisions\n",
      "\n",
      "[ AIResponsible ]\n",
      "\tThe developers or the people creating the AI\n",
      "\tnan\n",
      "\tA governmental or other regulatory body\n",
      "\tProminent industry leaders\n",
      "\tNobody\n",
      "\n",
      "[ AIFuture ]\n",
      "\tI'm excited about the possibilities more than worried about the dangers.\n",
      "\tnan\n",
      "\tI don't care about it, or I haven't thought about it.\n",
      "\tI'm worried about the dangers more than I'm excited about the possibilities.\n",
      "\n",
      "[ EthicsChoice ]\n",
      "\tNo\n",
      "\tDepends on what it is\n",
      "\tnan\n",
      "\tYes\n",
      "\n",
      "[ EthicsReport ]\n",
      "\tYes, and publicly\n",
      "\tDepends on what it is\n",
      "\tnan\n",
      "\tYes, but only within the company\n",
      "\tNo\n",
      "\n",
      "[ EthicsResponsible ]\n",
      "\tUpper management at the company/organization\n",
      "\tnan\n",
      "\tThe developer who wrote it\n",
      "\tThe person who came up with the idea\n",
      "\n",
      "[ EthicalImplications ]\n",
      "\tYes\n",
      "\tnan\n",
      "\tUnsure / I don't know\n",
      "\tNo\n",
      "\n",
      "[ StackOverflowRecommend ]\n",
      "\t10 (Very Likely)\n",
      "\tnan\n",
      "\t7\n",
      "\t8\n",
      "\t9\n",
      "\t5\n",
      "\t3\n",
      "\t6\n",
      "\t4\n",
      "\t2\n",
      "\t0 (Not Likely)\n",
      "\t1\n",
      "\n",
      "[ StackOverflowVisit ]\n"
     ]
    },
    {
     "name": "stdout",
     "output_type": "stream",
     "text": [
      "\tMultiple times per day\n",
      "\tA few times per month or weekly\n",
      "\tnan\n",
      "\tA few times per week\n",
      "\tDaily or almost daily\n",
      "\tI have never visited Stack Overflow (before today)\n",
      "\tLess than once per month or monthly\n",
      "\n",
      "[ StackOverflowHasAccount ]\n",
      "\tYes\n",
      "\tnan\n",
      "\tI'm not sure / I can't remember\n",
      "\tNo\n",
      "\n",
      "[ StackOverflowParticipate ]\n",
      "\tI have never participated in Q&A on Stack Overflow\n",
      "\tA few times per month or weekly\n",
      "\tnan\n",
      "\tLess than once per month or monthly\n",
      "\tDaily or almost daily\n",
      "\tA few times per week\n",
      "\tMultiple times per day\n",
      "\n",
      "[ StackOverflowJobs ]\n",
      "\tNo, I knew that Stack Overflow had a jobs board but have never used or visited it\n",
      "\tYes\n",
      "\tnan\n",
      "\tNo, I didn't know that Stack Overflow had a jobs board\n",
      "\n",
      "[ StackOverflowDevStory ]\n",
      "\tYes\n",
      "\tNo, I have one but it's out of date\n",
      "\tnan\n",
      "\tNo, I know what it is but I don't have one\n",
      "\tNo, and I don't know what that is\n",
      "\n",
      "[ StackOverflowJobsRecommend ]\n",
      "\tnan\n",
      "\t7\n",
      "\t8\n",
      "\t10 (Very Likely)\n",
      "\t6\n",
      "\t5\n",
      "\t9\n",
      "\t1\n",
      "\t2\n",
      "\t0 (Not Likely)\n",
      "\t3\n",
      "\t4\n",
      "\n",
      "[ StackOverflowConsiderMember ]\n",
      "\tYes\n",
      "\tnan\n",
      "\tNo\n",
      "\tI'm not sure\n",
      "\n",
      "[ WakeTime ]\n",
      "\tBetween 5:00 - 6:00 AM\n",
      "\tBetween 6:01 - 7:00 AM\n",
      "\tnan\n",
      "\tBefore 5:00 AM\n",
      "\tBetween 7:01 - 8:00 AM\n",
      "\tBetween 9:01 - 10:00 AM\n",
      "\tI do not have a set schedule\n",
      "\tBetween 8:01 - 9:00 AM\n",
      "\tBetween 10:01 - 11:00 AM\n",
      "\tBetween 11:01 AM - 12:00 PM\n",
      "\tAfter 12:01 PM\n",
      "\tI work night shifts\n",
      "\n",
      "[ HoursComputer ]\n",
      "\t9 - 12 hours\n",
      "\t5 - 8 hours\n",
      "\tnan\n",
      "\tOver 12 hours\n",
      "\t1 - 4 hours\n",
      "\tLess than 1 hour\n",
      "\n",
      "[ HoursOutside ]\n",
      "\t1 - 2 hours\n",
      "\t30 - 59 minutes\n",
      "\tnan\n",
      "\tLess than 30 minutes\n",
      "\t3 - 4 hours\n",
      "\tOver 4 hours\n",
      "\n",
      "[ SkipMeals ]\n",
      "\tNever\n",
      "\tnan\n",
      "\t3 - 4 times per week\n",
      "\t1 - 2 times per week\n",
      "\tDaily or almost every day\n",
      "\n",
      "[ ErgonomicDevices ]\n",
      "\tStanding desk\n",
      "\tErgonomic keyboard or mouse\n",
      "\tnan\n",
      "\tStanding desk;Fatigue-relieving floor mat\n",
      "\tFatigue-relieving floor mat\n",
      "\tStanding desk;Ergonomic keyboard or mouse\n",
      "\tStanding desk;Ergonomic keyboard or mouse;Wrist/hand supports or braces\n",
      "\tStanding desk;Fatigue-relieving floor mat;Wrist/hand supports or braces\n",
      "\tWrist/hand supports or braces\n",
      "\tStanding desk;Wrist/hand supports or braces\n",
      "\tFatigue-relieving floor mat;Wrist/hand supports or braces\n",
      "\tStanding desk;Fatigue-relieving floor mat;Ergonomic keyboard or mouse\n",
      "\tErgonomic keyboard or mouse;Wrist/hand supports or braces\n",
      "\tFatigue-relieving floor mat;Ergonomic keyboard or mouse\n",
      "\tStanding desk;Fatigue-relieving floor mat;Ergonomic keyboard or mouse;Wrist/hand supports or braces\n",
      "\tFatigue-relieving floor mat;Ergonomic keyboard or mouse;Wrist/hand supports or braces\n",
      "\n",
      "[ Exercise ]\n",
      "\t3 - 4 times per week\n",
      "\tDaily or almost every day\n",
      "\tnan\n",
      "\tI don't typically exercise\n",
      "\t1 - 2 times per week\n",
      "\n",
      "[ Gender ]\n",
      "\tMale\n",
      "\tnan\n",
      "\tFemale\n",
      "\tFemale;Male;Transgender;Non-binary, genderqueer, or gender non-conforming\n",
      "\tFemale;Male\n",
      "\tMale;Non-binary, genderqueer, or gender non-conforming\n",
      "\tNon-binary, genderqueer, or gender non-conforming\n",
      "\tTransgender\n",
      "\tFemale;Transgender\n",
      "\tTransgender;Non-binary, genderqueer, or gender non-conforming\n",
      "\tFemale;Non-binary, genderqueer, or gender non-conforming\n",
      "\tFemale;Transgender;Non-binary, genderqueer, or gender non-conforming\n",
      "\tMale;Transgender\n",
      "\tFemale;Male;Transgender\n",
      "\tFemale;Male;Non-binary, genderqueer, or gender non-conforming\n",
      "\tMale;Transgender;Non-binary, genderqueer, or gender non-conforming\n",
      "\n",
      "[ SexualOrientation ]\n",
      "\tStraight or heterosexual\n",
      "\tnan\n",
      "\tBisexual or Queer\n",
      "\tAsexual\n",
      "\tGay or Lesbian\n",
      "\tStraight or heterosexual;Bisexual or Queer\n",
      "\tStraight or heterosexual;Asexual\n",
      "\tGay or Lesbian;Bisexual or Queer\n",
      "\tStraight or heterosexual;Gay or Lesbian;Bisexual or Queer\n",
      "\tBisexual or Queer;Asexual\n",
      "\tStraight or heterosexual;Gay or Lesbian;Bisexual or Queer;Asexual\n",
      "\tStraight or heterosexual;Gay or Lesbian\n",
      "\tStraight or heterosexual;Bisexual or Queer;Asexual\n",
      "\tGay or Lesbian;Asexual\n",
      "\tGay or Lesbian;Bisexual or Queer;Asexual\n",
      "\n",
      "[ EducationParents ]\n",
      "\tBachelor’s degree (BA, BS, B.Eng., etc.)\n",
      "\tnan\n",
      "\tSome college/university study without earning a degree\n",
      "\tSecondary school (e.g. American high school, German Realschule or Gymnasium, etc.)\n",
      "\tMaster’s degree (MA, MS, M.Eng., MBA, etc.)\n",
      "\tPrimary/elementary school\n",
      "\tAssociate degree\n",
      "\tThey never completed any formal education\n",
      "\tOther doctoral degree (Ph.D, Ed.D., etc.)\n",
      "\tProfessional degree (JD, MD, etc.)\n",
      "\n",
      "[ RaceEthnicity ]\n",
      "\tBlack or of African descent\n",
      "\tWhite or of European descent\n",
      "\tnan\n",
      "\tHispanic or Latino/Latina;White or of European descent\n",
      "\tBlack or of African descent;East Asian;Hispanic or Latino/Latina;Middle Eastern;Native American, Pacific Islander, or Indigenous Australian;South Asian;White or of European descent\n",
      "\tSouth Asian\n",
      "\tEast Asian\n",
      "\tHispanic or Latino/Latina\n",
      "\tBlack or of African descent;Hispanic or Latino/Latina\n",
      "\tMiddle Eastern\n",
      "\tMiddle Eastern;White or of European descent\n",
      "\tEast Asian;White or of European descent\n",
      "\tSouth Asian;White or of European descent\n",
      "\tEast Asian;South Asian\n",
      "\tNative American, Pacific Islander, or Indigenous Australian\n",
      "\tBlack or of African descent;White or of European descent\n",
      "\tNative American, Pacific Islander, or Indigenous Australian;White or of European descent\n",
      "\tBlack or of African descent;Middle Eastern\n",
      "\tBlack or of African descent;Hispanic or Latino/Latina;White or of European descent\n",
      "\tEast Asian;Hispanic or Latino/Latina;Middle Eastern\n",
      "\tBlack or of African descent;South Asian;White or of European descent\n",
      "\tEast Asian;Hispanic or Latino/Latina\n",
      "\tBlack or of African descent;Native American, Pacific Islander, or Indigenous Australian;White or of European descent\n",
      "\tBlack or of African descent;Hispanic or Latino/Latina;Native American, Pacific Islander, or Indigenous Australian\n",
      "\tMiddle Eastern;South Asian\n",
      "\tEast Asian;Native American, Pacific Islander, or Indigenous Australian\n",
      "\tHispanic or Latino/Latina;South Asian\n",
      "\tHispanic or Latino/Latina;South Asian;White or of European descent\n",
      "\tBlack or of African descent;South Asian\n",
      "\tEast Asian;Native American, Pacific Islander, or Indigenous Australian;White or of European descent\n",
      "\tHispanic or Latino/Latina;Middle Eastern;White or of European descent\n",
      "\tEast Asian;Hispanic or Latino/Latina;Native American, Pacific Islander, or Indigenous Australian;South Asian;White or of European descent\n",
      "\tHispanic or Latino/Latina;Middle Eastern\n",
      "\tNative American, Pacific Islander, or Indigenous Australian;South Asian\n",
      "\tBlack or of African descent;Hispanic or Latino/Latina;South Asian\n",
      "\tEast Asian;South Asian;White or of European descent\n",
      "\tBlack or of African descent;Hispanic or Latino/Latina;Middle Eastern;Native American, Pacific Islander, or Indigenous Australian;White or of European descent\n",
      "\tHispanic or Latino/Latina;Middle Eastern;Native American, Pacific Islander, or Indigenous Australian\n",
      "\tEast Asian;Hispanic or Latino/Latina;Middle Eastern;Native American, Pacific Islander, or Indigenous Australian;South Asian;White or of European descent\n",
      "\tBlack or of African descent;East Asian;White or of European descent\n",
      "\tBlack or of African descent;Native American, Pacific Islander, or Indigenous Australian\n",
      "\tBlack or of African descent;Middle Eastern;White or of European descent\n",
      "\tBlack or of African descent;East Asian\n",
      "\tHispanic or Latino/Latina;Native American, Pacific Islander, or Indigenous Australian;White or of European descent\n",
      "\tBlack or of African descent;East Asian;Native American, Pacific Islander, or Indigenous Australian;White or of European descent\n",
      "\tEast Asian;Middle Eastern;White or of European descent\n",
      "\tEast Asian;Middle Eastern\n",
      "\tHispanic or Latino/Latina;Native American, Pacific Islander, or Indigenous Australian\n",
      "\tMiddle Eastern;South Asian;White or of European descent\n",
      "\tNative American, Pacific Islander, or Indigenous Australian;South Asian;White or of European descent\n",
      "\tEast Asian;Hispanic or Latino/Latina;White or of European descent\n",
      "\tEast Asian;Hispanic or Latino/Latina;Native American, Pacific Islander, or Indigenous Australian;White or of European descent\n",
      "\tBlack or of African descent;East Asian;Hispanic or Latino/Latina\n",
      "\tMiddle Eastern;Native American, Pacific Islander, or Indigenous Australian\n",
      "\tEast Asian;Middle Eastern;South Asian\n",
      "\tEast Asian;Native American, Pacific Islander, or Indigenous Australian;South Asian\n",
      "\tBlack or of African descent;East Asian;Middle Eastern;Native American, Pacific Islander, or Indigenous Australian;South Asian;White or of European descent\n",
      "\tBlack or of African descent;East Asian;Hispanic or Latino/Latina;White or of European descent\n",
      "\tEast Asian;Hispanic or Latino/Latina;Middle Eastern;Native American, Pacific Islander, or Indigenous Australian;White or of European descent\n",
      "\tBlack or of African descent;Hispanic or Latino/Latina;Native American, Pacific Islander, or Indigenous Australian;White or of European descent\n",
      "\tBlack or of African descent;East Asian;Hispanic or Latino/Latina;Middle Eastern;Native American, Pacific Islander, or Indigenous Australian;South Asian\n",
      "\tBlack or of African descent;East Asian;South Asian\n",
      "\tBlack or of African descent;East Asian;Hispanic or Latino/Latina;Middle Eastern;Native American, Pacific Islander, or Indigenous Australian\n",
      "\tBlack or of African descent;East Asian;Hispanic or Latino/Latina;Middle Eastern;Native American, Pacific Islander, or Indigenous Australian;White or of European descent\n",
      "\tBlack or of African descent;Hispanic or Latino/Latina;Native American, Pacific Islander, or Indigenous Australian;South Asian\n",
      "\tBlack or of African descent;East Asian;Native American, Pacific Islander, or Indigenous Australian\n",
      "\tEast Asian;Hispanic or Latino/Latina;Native American, Pacific Islander, or Indigenous Australian\n",
      "\tHispanic or Latino/Latina;Middle Eastern;Native American, Pacific Islander, or Indigenous Australian;White or of European descent\n",
      "\tBlack or of African descent;East Asian;Native American, Pacific Islander, or Indigenous Australian;South Asian;White or of European descent\n",
      "\tBlack or of African descent;Hispanic or Latino/Latina;Middle Eastern\n",
      "\tBlack or of African descent;Middle Eastern;Native American, Pacific Islander, or Indigenous Australian;White or of European descent\n",
      "\tEast Asian;Middle Eastern;South Asian;White or of European descent\n",
      "\n",
      "[ Age ]\n",
      "\t25 - 34 years old\n",
      "\t35 - 44 years old\n",
      "\tnan\n",
      "\t18 - 24 years old\n",
      "\t45 - 54 years old\n",
      "\t55 - 64 years old\n",
      "\tUnder 18 years old\n",
      "\t65 years or older\n",
      "\n",
      "[ Dependents ]\n",
      "\tYes\n",
      "\tnan\n",
      "\tNo\n",
      "\n",
      "[ MilitaryUS ]\n",
      "\tnan\n",
      "\tNo\n",
      "\tYes\n",
      "\n",
      "[ SurveyTooLong ]\n",
      "\tThe survey was an appropriate length\n",
      "\tnan\n",
      "\tThe survey was too long\n",
      "\tThe survey was too short\n",
      "\n",
      "[ SurveyEasy ]\n",
      "\tVery easy\n",
      "\tSomewhat easy\n",
      "\tnan\n",
      "\tSomewhat difficult\n",
      "\tNeither easy nor difficult\n",
      "\tVery difficult\n",
      "CPU times: user 1.34 s, sys: 6.86 ms, total: 1.35 s\n",
      "Wall time: 1.33 s\n"
     ]
    }
   ],
   "source": [
    "%%time\n",
    "for col in df:\n",
    "    if is_aggregate(col):\n",
    "        print_aggregate_column(col)\n",
    "    elif not is_ignored(col):\n",
    "        print_column(col)"
   ]
  },
  {
   "cell_type": "markdown",
   "metadata": {},
   "source": [
    "## Simple bar charts"
   ]
  },
  {
   "cell_type": "markdown",
   "metadata": {},
   "source": [
    "### Employment and Education"
   ]
  },
  {
   "cell_type": "code",
   "execution_count": 5,
   "metadata": {},
   "outputs": [
    {
     "data": {
      "text/plain": [
       "<matplotlib.axes._subplots.AxesSubplot at 0x7ff37c4cb780>"
      ]
     },
     "execution_count": 5,
     "metadata": {},
     "output_type": "execute_result"
    },
    {
     "data": {
      "image/png": "[encoded data removed]",
      "text/plain": [
       "<Figure size 432x288 with 1 Axes>"
      ]
     },
     "metadata": {
      "needs_background": "light"
     },
     "output_type": "display_data"
    }
   ],
   "source": [
    "df['Employment'].fillna('N/A').value_counts().plot(kind='barh')"
   ]
  },
  {
   "cell_type": "code",
   "execution_count": 6,
   "metadata": {},
   "outputs": [
    {
     "data": {
      "text/plain": [
       "<matplotlib.axes._subplots.AxesSubplot at 0x7ff37ff49860>"
      ]
     },
     "execution_count": 6,
     "metadata": {},
     "output_type": "execute_result"
    },
    {
     "data": {
      "image/png": "[encoded data removed]",
      "text/plain": [
       "<Figure size 432x288 with 1 Axes>"
      ]
     },
     "metadata": {
      "needs_background": "light"
     },
     "output_type": "display_data"
    }
   ],
   "source": [
    "df['FormalEducation'].fillna('N/A').value_counts().plot(kind='barh')"
   ]
  },
  {
   "cell_type": "code",
   "execution_count": 7,
   "metadata": {},
   "outputs": [
    {
     "data": {
      "text/plain": [
       "<matplotlib.axes._subplots.AxesSubplot at 0x7ff37fef7a20>"
      ]
     },
     "execution_count": 7,
     "metadata": {},
     "output_type": "execute_result"
    },
    {
     "data": {
      "image/png": "[encoded data removed]",
      "text/plain": [
       "<Figure size 432x288 with 1 Axes>"
      ]
     },
     "metadata": {
      "needs_background": "light"
     },
     "output_type": "display_data"
    }
   ],
   "source": [
    "df['CompanySize'].fillna('N/A').value_counts().plot(kind='barh')"
   ]
  },
  {
   "cell_type": "code",
   "execution_count": 8,
   "metadata": {},
   "outputs": [
    {
     "data": {
      "text/plain": [
       "<matplotlib.axes._subplots.AxesSubplot at 0x7ff37fe87240>"
      ]
     },
     "execution_count": 8,
     "metadata": {},
     "output_type": "execute_result"
    },
    {
     "data": {
      "image/png": "[encoded data removed]",
      "text/plain": [
       "<Figure size 432x288 with 1 Axes>"
      ]
     },
     "metadata": {
      "needs_background": "light"
     },
     "output_type": "display_data"
    }
   ],
   "source": [
    "df['YearsCoding'].fillna('N/A').value_counts().plot(kind='barh')"
   ]
  },
  {
   "cell_type": "code",
   "execution_count": 9,
   "metadata": {},
   "outputs": [
    {
     "data": {
      "text/plain": [
       "<matplotlib.axes._subplots.AxesSubplot at 0x7ff37fe01128>"
      ]
     },
     "execution_count": 9,
     "metadata": {},
     "output_type": "execute_result"
    },
    {
     "data": {
      "image/png": "[encoded data removed]",
      "text/plain": [
       "<Figure size 432x288 with 1 Axes>"
      ]
     },
     "metadata": {
      "needs_background": "light"
     },
     "output_type": "display_data"
    }
   ],
   "source": [
    "df['YearsCodingProf'].fillna('N/A').value_counts().plot(kind='barh')"
   ]
  },
  {
   "cell_type": "code",
   "execution_count": 10,
   "metadata": {},
   "outputs": [
    {
     "data": {
      "text/plain": [
       "<matplotlib.axes._subplots.AxesSubplot at 0x7ff37fd81518>"
      ]
     },
     "execution_count": 10,
     "metadata": {},
     "output_type": "execute_result"
    },
    {
     "data": {
      "image/png": "[encoded data removed]",
      "text/plain": [
       "<Figure size 432x288 with 1 Axes>"
      ]
     },
     "metadata": {
      "needs_background": "light"
     },
     "output_type": "display_data"
    }
   ],
   "source": [
    "df['JobSatisfaction'].fillna('N/A').value_counts().plot(kind='barh')"
   ]
  },
  {
   "cell_type": "code",
   "execution_count": 11,
   "metadata": {},
   "outputs": [
    {
     "data": {
      "text/plain": [
       "<matplotlib.axes._subplots.AxesSubplot at 0x7ff37fcea828>"
      ]
     },
     "execution_count": 11,
     "metadata": {},
     "output_type": "execute_result"
    },
    {
     "data": {
      "image/png": "[encoded data removed]",
      "text/plain": [
       "<Figure size 432x288 with 1 Axes>"
      ]
     },
     "metadata": {
      "needs_background": "light"
     },
     "output_type": "display_data"
    }
   ],
   "source": [
    "df['CareerSatisfaction'].fillna('N/A').value_counts().plot(kind='barh')"
   ]
  },
  {
   "cell_type": "code",
   "execution_count": 12,
   "metadata": {},
   "outputs": [
    {
     "data": {
      "text/plain": [
       "<matplotlib.axes._subplots.AxesSubplot at 0x7ff37fc5f390>"
      ]
     },
     "execution_count": 12,
     "metadata": {},
     "output_type": "execute_result"
    },
    {
     "data": {
      "image/png": "[encoded data removed]",
      "text/plain": [
       "<Figure size 432x288 with 1 Axes>"
      ]
     },
     "metadata": {
      "needs_background": "light"
     },
     "output_type": "display_data"
    }
   ],
   "source": [
    "df['HopeFiveYears'].fillna('N/A').value_counts().plot(kind='barh')"
   ]
  },
  {
   "cell_type": "markdown",
   "metadata": {},
   "source": [
    "### Views on AI"
   ]
  },
  {
   "cell_type": "code",
   "execution_count": 13,
   "metadata": {},
   "outputs": [
    {
     "data": {
      "text/plain": [
       "<matplotlib.axes._subplots.AxesSubplot at 0x7ff37fbdd3c8>"
      ]
     },
     "execution_count": 13,
     "metadata": {},
     "output_type": "execute_result"
    },
    {
     "data": {
      "image/png": "[encoded data removed]",
      "text/plain": [
       "<Figure size 432x288 with 1 Axes>"
      ]
     },
     "metadata": {
      "needs_background": "light"
     },
     "output_type": "display_data"
    }
   ],
   "source": [
    "# What do you think is the most dangerous aspect of increasingly advanced AI technology?\n",
    "df['AIDangerous'].fillna('N/A').value_counts().plot(kind='barh')"
   ]
  },
  {
   "cell_type": "code",
   "execution_count": 14,
   "metadata": {},
   "outputs": [
    {
     "data": {
      "text/plain": [
       "<matplotlib.axes._subplots.AxesSubplot at 0x7ff37fc5f978>"
      ]
     },
     "execution_count": 14,
     "metadata": {},
     "output_type": "execute_result"
    },
    {
     "data": {
      "image/png": "[encoded data removed]",
      "text/plain": [
       "<Figure size 432x288 with 1 Axes>"
      ]
     },
     "metadata": {
      "needs_background": "light"
     },
     "output_type": "display_data"
    }
   ],
   "source": [
    "# What do you think is the most exciting aspect of increasingly advanced AI technology?\n",
    "df['AIInteresting'].fillna('N/A').value_counts().plot(kind='barh')"
   ]
  },
  {
   "cell_type": "code",
   "execution_count": 15,
   "metadata": {},
   "outputs": [
    {
     "data": {
      "text/plain": [
       "<matplotlib.axes._subplots.AxesSubplot at 0x7ff37fb916a0>"
      ]
     },
     "execution_count": 15,
     "metadata": {},
     "output_type": "execute_result"
    },
    {
     "data": {
      "image/png": "[encoded data removed]",
      "text/plain": [
       "<Figure size 432x288 with 1 Axes>"
      ]
     },
     "metadata": {
      "needs_background": "light"
     },
     "output_type": "display_data"
    }
   ],
   "source": [
    "# Whose responsibility is it, *primarily*, to consider the ramifications of increasingly advanced AI technology?\n",
    "df['AIResponsible'].fillna('N/A').value_counts().plot(kind='barh')"
   ]
  },
  {
   "cell_type": "code",
   "execution_count": 16,
   "metadata": {},
   "outputs": [
    {
     "data": {
      "text/plain": [
       "<matplotlib.axes._subplots.AxesSubplot at 0x7ff37faf7390>"
      ]
     },
     "execution_count": 16,
     "metadata": {},
     "output_type": "execute_result"
    },
    {
     "data": {
      "image/png": "[encoded data removed]",
      "text/plain": [
       "<Figure size 432x288 with 1 Axes>"
      ]
     },
     "metadata": {
      "needs_background": "light"
     },
     "output_type": "display_data"
    }
   ],
   "source": [
    "# Overall, what's your take on the future of artificial intelligence?\n",
    "df['AIFuture'].fillna('N/A').value_counts().plot(kind='barh')"
   ]
  },
  {
   "cell_type": "markdown",
   "metadata": {},
   "source": [
    "## Personal stuff"
   ]
  },
  {
   "cell_type": "code",
   "execution_count": 17,
   "metadata": {},
   "outputs": [
    {
     "data": {
      "text/plain": [
       "<matplotlib.axes._subplots.AxesSubplot at 0x7ff37fad6128>"
      ]
     },
     "execution_count": 17,
     "metadata": {},
     "output_type": "execute_result"
    },
    {
     "data": {
      "image/png": "[encoded data removed]",
      "text/plain": [
       "<Figure size 432x288 with 1 Axes>"
      ]
     },
     "metadata": {
      "needs_background": "light"
     },
     "output_type": "display_data"
    }
   ],
   "source": [
    "df['Age'].fillna('N/A').value_counts().plot(kind='barh')"
   ]
  },
  {
   "cell_type": "code",
   "execution_count": 18,
   "metadata": {},
   "outputs": [
    {
     "data": {
      "text/plain": [
       "<matplotlib.axes._subplots.AxesSubplot at 0x7ff37fa282b0>"
      ]
     },
     "execution_count": 18,
     "metadata": {},
     "output_type": "execute_result"
    },
    {
     "data": {
      "image/png": "[encoded data removed]",
      "text/plain": [
       "<Figure size 432x288 with 1 Axes>"
      ]
     },
     "metadata": {
      "needs_background": "light"
     },
     "output_type": "display_data"
    }
   ],
   "source": [
    "df['Exercise'].fillna('N/A').value_counts().plot(kind='barh')"
   ]
  },
  {
   "cell_type": "code",
   "execution_count": 19,
   "metadata": {},
   "outputs": [
    {
     "data": {
      "text/plain": [
       "<matplotlib.axes._subplots.AxesSubplot at 0x7ff37f9a5d30>"
      ]
     },
     "execution_count": 19,
     "metadata": {},
     "output_type": "execute_result"
    },
    {
     "data": {
      "image/png": "[encoded data removed]",
      "text/plain": [
       "<Figure size 432x288 with 1 Axes>"
      ]
     },
     "metadata": {
      "needs_background": "light"
     },
     "output_type": "display_data"
    }
   ],
   "source": [
    "df['HoursOutside'].fillna('N/A').value_counts().plot(kind='barh')"
   ]
  },
  {
   "cell_type": "code",
   "execution_count": 20,
   "metadata": {},
   "outputs": [
    {
     "data": {
      "text/plain": [
       "<matplotlib.axes._subplots.AxesSubplot at 0x7ff37f978780>"
      ]
     },
     "execution_count": 20,
     "metadata": {},
     "output_type": "execute_result"
    },
    {
     "data": {
      "image/png": "[encoded data removed]",
      "text/plain": [
       "<Figure size 432x288 with 1 Axes>"
      ]
     },
     "metadata": {
      "needs_background": "light"
     },
     "output_type": "display_data"
    }
   ],
   "source": [
    "df['HoursComputer'].fillna('N/A').value_counts().plot(kind='barh')"
   ]
  },
  {
   "cell_type": "code",
   "execution_count": 21,
   "metadata": {},
   "outputs": [
    {
     "data": {
      "text/plain": [
       "<matplotlib.axes._subplots.AxesSubplot at 0x7ff37f936748>"
      ]
     },
     "execution_count": 21,
     "metadata": {},
     "output_type": "execute_result"
    },
    {
     "data": {
      "image/png": "[encoded data removed]",
      "text/plain": [
       "<Figure size 432x288 with 1 Axes>"
      ]
     },
     "metadata": {
      "needs_background": "light"
     },
     "output_type": "display_data"
    }
   ],
   "source": [
    "df['SkipMeals'].fillna('N/A').value_counts().plot(kind='barh')"
   ]
  },
  {
   "cell_type": "code",
   "execution_count": 22,
   "metadata": {},
   "outputs": [
    {
     "data": {
      "text/plain": [
       "<matplotlib.axes._subplots.AxesSubplot at 0x7ff37f8b69b0>"
      ]
     },
     "execution_count": 22,
     "metadata": {},
     "output_type": "execute_result"
    },
    {
     "data": {
      "image/png": "[encoded data removed]",
      "text/plain": [
       "<Figure size 432x288 with 1 Axes>"
      ]
     },
     "metadata": {
      "needs_background": "light"
     },
     "output_type": "display_data"
    }
   ],
   "source": [
    "df['WakeTime'].fillna('N/A').value_counts().plot(kind='barh')"
   ]
  }
 ],
 "metadata": {
  "kernelspec": {
   "display_name": "Python 3",
   "language": "python",
   "name": "python3"
  },
  "language_info": {
   "codemirror_mode": {
    "name": "ipython",
    "version": 3
   },
   "file_extension": ".py",
   "mimetype": "text/x-python",
   "name": "python",
   "nbconvert_exporter": "python",
   "pygments_lexer": "ipython3",
   "version": "3.6.7"
  }
 },
 "nbformat": 4,
 "nbformat_minor": 2
}
